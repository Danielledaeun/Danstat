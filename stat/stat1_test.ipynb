{
 "cells": [
  {
   "cell_type": "markdown",
   "metadata": {},
   "source": [
    "# Statistical tests in a nutshell\n",
    "\n",
    "last updated : 210119\n",
    "___\n",
    "\n",
    "- this notebook aims to compare self-made classes  vs package (hypothesis testing)\n",
    "- typical testing procedure\n",
    "    1. specify H_0/H_1\n",
    "    2. built the test statistic\n",
    "    3. determine the distribution of the test statistic\n",
    "    4. using 3, calculate the p-value\n",
    "- *listed tests below are available in the self-made classes)*\n",
    "\n",
    "    A. Small sample : one sample t/z test, permutation test\n",
    "    \n",
    "    B. two sample\n",
    "    - two sample t/z test\n",
    "    - paired t-test\n",
    "    - wilcoxon-mann-whitney\n",
    "    - wilcoxon signed rank sum\n",
    "\n",
    "\n",
    "    C. categorical\n",
    "    - fisher's exact test\n",
    "    - chi-square\n",
    "    - mcnemar\n",
    "    \n",
    "    \n",
    "    D. Anova/ ancova\n",
    "    - f-test\n",
    "    - anova (one-way/ two-way/ rm / factorial)\n",
    "    - kruskal wallis\n",
    "    - Friedman test\n",
    "\n",
    "ref>>\n",
    "bootstrap test : https://www.youtube.com/watch?app=desktop&v=9STZ7MxkNVg"
   ]
  },
  {
   "cell_type": "markdown",
   "metadata": {},
   "source": [
    "## A. Small sample tests\n",
    "\n",
    "- You may find *One sample* tests and tests for small sample in the **SmallSample** class.\n",
    "\n",
    "- One sample t/z test\n",
    "    - if you know the population variance, it will be Z (the default is t-test)\n",
    "    - in one sample t/z test, you should designate the **specific value** you want to confirm\n",
    "    - see help(SmallSample) for more information in conducting tests\n",
    "    \n",
    "- Permutation test\n",
    "    - Assumptions for parametric approach are not met\n",
    "    - Test sth other than classic targets(mean, median)\n",
    "    - cannot build any confidence interval\n",
    "    "
   ]
  },
  {
   "cell_type": "code",
   "execution_count": 2,
   "metadata": {},
   "outputs": [],
   "source": [
    "# exsisting methods\n",
    "import numpy as np; import pandas as pd\n",
    "\n",
    "class SmallSample():\n",
    "    \"\"\"\n",
    "    Class SmallSample performs three different tests\n",
    "        - one sample z-test : you need to specify the population variance\n",
    "        - one sample t-test \n",
    "        - permutation test : for small samples\n",
    "    \n",
    "    <Things you should specify>\n",
    "        df : dataframe\n",
    "            df[0] = data, df[1] = group(for permutation)\n",
    "        H0 : speicified value you want to confirm with\n",
    "        H1 : alternative hypothesis (default = \"not equal\")\n",
    "        Types : mean or proportaion (default = \"mean\")\n",
    "    \"\"\"\n",
    "    def __init__(self, df, h0=0, h1=\"not equal\", types=\"mean\"):\n",
    "        self.df = df\n",
    "        self.h0 = h0\n",
    "        self.h1 = h1\n",
    "        self.types = types\n",
    "    \n",
    "    def ZTest(self, sigma, alpha):\n",
    "        from scipy import stats; import math\n",
    "        # assign required\n",
    "        mu = self.h0\n",
    "        x = self.df[0].mean()\n",
    "        n = len(self.df[0])\n",
    "        # standardisation: test statistic\n",
    "        Z = (x-mu)/(sigma/math.sqrt(n))\n",
    "        z0 = stats.norm.ppf(alpha) #stats.zscore(z0)\n",
    "        # testing\n",
    "        if self.h1 == \"not equal\":\n",
    "            pval = 2*(1-stats.norm.cdf(abs(Z)))\n",
    "            return Z, pval\n",
    "            \n",
    "        elif self.h1 == \"less\":\n",
    "            pval = stats.norm.cdf(Z)\n",
    "            return Z, pval\n",
    "        \n",
    "        elif self.h1 == \"greater\":\n",
    "            pval = 1-stats.norm.cdf(Z)\n",
    "            return Z, pval\n",
    "    \n",
    "    def TTest(self, alpha):\n",
    "        from scipy import stats; import math\n",
    "        # assign required\n",
    "        mu = self.h0\n",
    "        x = self.df[0].mean()\n",
    "        s = self.df[0].std()\n",
    "        n = len(self.df[0])\n",
    "        # standardisation: test statistic\n",
    "        T = (x-mu)/(s/math.sqrt(n))\n",
    "        t0 = stats.t.ppf(alpha, df=n-1)\n",
    "        # testing\n",
    "        if self.h1 == \"not equal\":\n",
    "            pval = 2*(1-stats.t.cdf(abs(T), df=n-1))\n",
    "            return T, pval\n",
    "            \n",
    "        elif self.h1 == \"less\":\n",
    "            pval = stats.t.cdf(T, df=n-1)\n",
    "            return T, pval\n",
    "        \n",
    "        elif self.h1 == \"greater\":\n",
    "            pval = 1-stats.t.cdf(T, df=n-1)\n",
    "            return T, pval\n",
    "    \n",
    "    def PermutationTest(self, group, iters=10, statistic=\"mean\"):\n",
    "        \"for two groups..!, mean\"\n",
    "        import random\n",
    "        df = self.df\n",
    "        n = len(df)\n",
    "        P = abs(df.groupby(data[group]).mean().diff().reset_index()[0][1])\n",
    "        res = 0\n",
    "        for i in range(iters):\n",
    "            perm = df[0].copy()\n",
    "            random.shuffle(perm)\n",
    "            P0 = abs(perm[:(n//2)].mean()-perm[(n//2)+1:].mean())\n",
    "            if P > P0:\n",
    "                res +=1\n",
    "            continue\n",
    "        return res/n"
   ]
  },
  {
   "cell_type": "markdown",
   "metadata": {},
   "source": [
    "#### examples A \n",
    "- existing package, own codes"
   ]
  },
  {
   "cell_type": "code",
   "execution_count": 3,
   "metadata": {},
   "outputs": [
    {
     "data": {
      "text/html": [
       "<div>\n",
       "<style scoped>\n",
       "    .dataframe tbody tr th:only-of-type {\n",
       "        vertical-align: middle;\n",
       "    }\n",
       "\n",
       "    .dataframe tbody tr th {\n",
       "        vertical-align: top;\n",
       "    }\n",
       "\n",
       "    .dataframe thead th {\n",
       "        text-align: right;\n",
       "    }\n",
       "</style>\n",
       "<table border=\"1\" class=\"dataframe\">\n",
       "  <thead>\n",
       "    <tr style=\"text-align: right;\">\n",
       "      <th></th>\n",
       "      <th>0</th>\n",
       "    </tr>\n",
       "  </thead>\n",
       "  <tbody>\n",
       "    <tr>\n",
       "      <th>0</th>\n",
       "      <td>-0.690604</td>\n",
       "    </tr>\n",
       "    <tr>\n",
       "      <th>1</th>\n",
       "      <td>-1.028163</td>\n",
       "    </tr>\n",
       "    <tr>\n",
       "      <th>2</th>\n",
       "      <td>0.939870</td>\n",
       "    </tr>\n",
       "    <tr>\n",
       "      <th>3</th>\n",
       "      <td>0.814921</td>\n",
       "    </tr>\n",
       "    <tr>\n",
       "      <th>4</th>\n",
       "      <td>0.773056</td>\n",
       "    </tr>\n",
       "  </tbody>\n",
       "</table>\n",
       "</div>"
      ],
      "text/plain": [
       "          0\n",
       "0 -0.690604\n",
       "1 -1.028163\n",
       "2  0.939870\n",
       "3  0.814921\n",
       "4  0.773056"
      ]
     },
     "execution_count": 3,
     "metadata": {},
     "output_type": "execute_result"
    }
   ],
   "source": [
    "# data generating from normal distribution \n",
    "x = np.random.normal(loc=0,scale=1,size=100)\n",
    "data = pd.DataFrame(x)\n",
    "data.head()"
   ]
  },
  {
   "cell_type": "code",
   "execution_count": 4,
   "metadata": {},
   "outputs": [
    {
     "data": {
      "text/plain": [
       "(-30.953299878580832, 1.0)"
      ]
     },
     "execution_count": 4,
     "metadata": {},
     "output_type": "execute_result"
    }
   ],
   "source": [
    "# Z test\n",
    "dan = SmallSample(df=data, h0=3, h1=\"greater\")\n",
    "dan.ZTest(alpha=0.05, sigma=1)"
   ]
  },
  {
   "cell_type": "code",
   "execution_count": 5,
   "metadata": {},
   "outputs": [
    {
     "data": {
      "text/plain": [
       "(-0.9850354299270078, 0.8364960274647698)"
      ]
     },
     "execution_count": 5,
     "metadata": {},
     "output_type": "execute_result"
    }
   ],
   "source": [
    "# T test\n",
    "dan = SmallSample(df=data, h0=0, h1=\"greater\")\n",
    "dan.TTest(alpha=0.05)"
   ]
  },
  {
   "cell_type": "code",
   "execution_count": null,
   "metadata": {},
   "outputs": [],
   "source": [
    "# T test package\n",
    "from scipy.stats import ttest_1samp\n",
    "ttest_1samp(data[0], 0)"
   ]
  },
  {
   "cell_type": "code",
   "execution_count": 6,
   "metadata": {},
   "outputs": [
    {
     "data": {
      "text/plain": [
       "0.2"
      ]
     },
     "execution_count": 6,
     "metadata": {},
     "output_type": "execute_result"
    }
   ],
   "source": [
    "# permutation test\n",
    "import numpy as np\n",
    "data = pd.DataFrame(np.random.randint(1,100, size=30))\n",
    "data.loc[:15,'group'] = 'A';data.loc[16:,'group'] = 'B'\n",
    "dan = SmallSample(df=data)\n",
    "dan.PermutationTest(group='group',iters=10)"
   ]
  },
  {
   "cell_type": "code",
   "execution_count": null,
   "metadata": {},
   "outputs": [],
   "source": [
    "from mlxtend.evaluate import permutation_test\n",
    "permutation_test(data.loc[data['group']=='A',0], data.loc[data['group']=='B',0],method='approximate',num_rounds=100,seed=0)"
   ]
  },
  {
   "cell_type": "markdown",
   "metadata": {},
   "source": [
    "## B. Two samples tests\n",
    "\n",
    "- Two sample t/z test\n",
    "    - if you know the population variance, it will be Z (the default is t-test)\n",
    "    - in one sample t/z test, you should designate the **specific value** you want to confirm\n",
    "    - see help(SmallSample) for more information in conducting tests\n",
    "    \n",
    "- paired t-test\n",
    "- wilcoxon-mann-whitney\n",
    "- wilcoxon signed rank sum\n",
    "    "
   ]
  },
  {
   "cell_type": "code",
   "execution_count": 2,
   "metadata": {},
   "outputs": [],
   "source": [
    "# exsisting methods\n",
    "import numpy as np; import pandas as pd\n",
    "\n",
    "class SmallSample():\n",
    "    \"\"\"\n",
    "    Class SmallSample performs four different tests\n",
    "    - two sample z-test (default : same variance)\n",
    "    - two sample t-test (default : same variance)\n",
    "    - wilcoxon-mann-whitney test \n",
    "    - wilcoxon signed rank sum test\n",
    "    \n",
    "    <Things you should specify>\n",
    "        df : dataframe\n",
    "            df[0] = data, df[1] = group(for permutation)\n",
    "        H0 : speicified value you want to confirm with\n",
    "        H1 : alternative hypothesis (default = \"not equal\")\n",
    "        Types : mean or proportaion (default = \"mean\")\n",
    "    \"\"\"\n",
    "    def __init__(self, df, h0=0, h1=\"not equal\", types=\"mean\"):\n",
    "        self.df = df\n",
    "        self.h0 = h0\n",
    "        self.h1 = h1\n",
    "        self.types = types\n",
    "    \n",
    "    def ZTest(self, sigma, alpha):\n",
    "        from scipy import stats; import math\n",
    "        # assign required\n",
    "        mu = self.h0\n",
    "        x = self.df[0].mean()\n",
    "        n = len(self.df[0])\n",
    "        # standardisation: test statistic\n",
    "        Z = (x-mu)/(sigma/math.sqrt(n))\n",
    "        z0 = stats.norm.ppf(alpha) #stats.zscore(z0)\n",
    "        # testing\n",
    "        if self.h1 == \"not equal\":\n",
    "            pval = 2*(1-stats.norm.cdf(abs(Z)))\n",
    "            return Z, pval\n",
    "            \n",
    "        elif self.h1 == \"less\":\n",
    "            pval = stats.norm.cdf(Z)\n",
    "            return Z, pval\n",
    "        \n",
    "        elif self.h1 == \"greater\":\n",
    "            pval = 1-stats.norm.cdf(Z)\n",
    "            return Z, pval\n",
    "    \n",
    "    def TTest(self, alpha):\n",
    "        from scipy import stats; import math\n",
    "        # assign required\n",
    "        mu = self.h0\n",
    "        x = self.df[0].mean()\n",
    "        s = self.df[0].std()\n",
    "        n = len(self.df[0])\n",
    "        # standardisation: test statistic\n",
    "        T = (x-mu)/(s/math.sqrt(n))\n",
    "        t0 = stats.t.ppf(alpha, df=n-1)\n",
    "        # testing\n",
    "        if self.h1 == \"not equal\":\n",
    "            pval = 2*(1-stats.t.cdf(abs(T), df=n-1))\n",
    "            return T, pval\n",
    "            \n",
    "        elif self.h1 == \"less\":\n",
    "            pval = stats.t.cdf(T, df=n-1)\n",
    "            return T, pval\n",
    "        \n",
    "        elif self.h1 == \"greater\":\n",
    "            pval = 1-stats.t.cdf(T, df=n-1)\n",
    "            return T, pval\n",
    "    \n",
    "    def PermutationTest(self, group, iters=10, statistic=\"mean\"):\n",
    "        \"for two groups..!, mean\"\n",
    "        import random\n",
    "        df = self.df\n",
    "        n = len(df)\n",
    "        P = abs(df.groupby(data[group]).mean().diff().reset_index()[0][1])\n",
    "        res = 0\n",
    "        for i in range(iters):\n",
    "            perm = df[0].copy()\n",
    "            random.shuffle(perm)\n",
    "            P0 = abs(perm[:(n//2)].mean()-perm[(n//2)+1:].mean())\n",
    "            if P > P0:\n",
    "                res +=1\n",
    "            continue\n",
    "        return res/n"
   ]
  },
  {
   "cell_type": "markdown",
   "metadata": {},
   "source": [
    "#### examples B \n",
    "- existing package, own codes"
   ]
  }
 ],
 "metadata": {
  "kernelspec": {
   "display_name": "Python 3",
   "language": "python",
   "name": "python3"
  },
  "language_info": {
   "codemirror_mode": {
    "name": "ipython",
    "version": 3
   },
   "file_extension": ".py",
   "mimetype": "text/x-python",
   "name": "python",
   "nbconvert_exporter": "python",
   "pygments_lexer": "ipython3",
   "version": "3.7.7"
  }
 },
 "nbformat": 4,
 "nbformat_minor": 4
}
