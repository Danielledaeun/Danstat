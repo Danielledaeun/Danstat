{
 "cells": [
  {
   "cell_type": "markdown",
   "metadata": {},
   "source": [
    "# GLM\n",
    "\n",
    "last updated : 210119\n",
    "___\n",
    "\n",
    "- this notebook aims to compare self-made classes  vs package (GLM/ GLMM)\n",
    "- !jupyter labextension install @jupyterlab/toc => toc\n",
    "\n",
    "listed tests below are available in the self-made classes\n",
    "- ordered logistic\n",
    "- poisson\n",
    "- linear\n"
   ]
  }
 ],
 "metadata": {
  "kernelspec": {
   "display_name": "Python 3",
   "language": "python",
   "name": "python3"
  },
  "language_info": {
   "codemirror_mode": {
    "name": "ipython",
    "version": 3
   },
   "file_extension": ".py",
   "mimetype": "text/x-python",
   "name": "python",
   "nbconvert_exporter": "python",
   "pygments_lexer": "ipython3",
   "version": "3.7.7"
  }
 },
 "nbformat": 4,
 "nbformat_minor": 4
}
